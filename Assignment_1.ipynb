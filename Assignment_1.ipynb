{
  "nbformat": 4,
  "nbformat_minor": 0,
  "metadata": {
    "colab": {
      "provenance": [],
      "authorship_tag": "ABX9TyMHOhpE808mapkb83JDN2CX",
      "include_colab_link": true
    },
    "kernelspec": {
      "name": "python3",
      "display_name": "Python 3"
    },
    "language_info": {
      "name": "python"
    }
  },
  "cells": [
    {
      "cell_type": "markdown",
      "metadata": {
        "id": "view-in-github",
        "colab_type": "text"
      },
      "source": [
        "<a href=\"https://colab.research.google.com/github/paulinaporcelli/paulina/blob/main/Assignment_1.ipynb\" target=\"_parent\"><img src=\"https://colab.research.google.com/assets/colab-badge.svg\" alt=\"Open In Colab\"/></a>"
      ]
    },
    {
      "cell_type": "code",
      "source": [
        "# This function adds two numbers\n",
        "def add(x, y):\n",
        "    return x + y\n",
        "\n",
        "# This function subtracts two numbers\n",
        "def subtract(x, y):\n",
        "    return x - y\n",
        "\n",
        "# This function multiplies two numbers\n",
        "def multiply(x, y):\n",
        "    return x * y\n",
        "\n",
        "# This function divides two numbers\n",
        "def divide(x, y):\n",
        "    return x / y\n",
        "\n",
        "operators = \"+ - * / // % **\"\n",
        "\n",
        "while \"y\" == input(\"Do you want to continue? (y/n): \"):\n",
        "  # takes inputs from user\n",
        "  choice = input('enter choice(operator):')"
      ],
      "metadata": {
        "id": "LunxrJFPz3wm"
      },
      "execution_count": null,
      "outputs": []
    },
    {
      "cell_type": "code",
      "source": [
        "user_choice = input ('Enter date: (MM/DD/YYYY)')\n",
        "\n",
        "month = user_choice [:2]\n",
        "day = user_choice [3:5]\n",
        "year = user_choice[6:]\n",
        "\n",
        "len(user_choice)\n",
        "\n",
        "print(month, day, year)"
      ],
      "metadata": {
        "id": "O-tlfj4R07Tk"
      },
      "execution_count": null,
      "outputs": []
    },
    {
      "cell_type": "code",
      "source": [
        "L = []\n",
        "\n",
        "number = int(input('Enter a value: '))\n",
        "\n",
        "while number !=0:\n",
        "  L.append (number)\n",
        "\n",
        "if number == 0:\n",
        "  print(\"terminate process\")\n",
        "  number = int(input('Enter a value: '))\n",
        "print(L)"
      ],
      "metadata": {
        "id": "iGjMNDlQ787R"
      },
      "execution_count": null,
      "outputs": []
    },
    {
      "cell_type": "code",
      "source": [
        "months = {}\n",
        "numbers = {1, 2, 3, 4, 5, 6, 7, 8, 9, 10, 11, 12}\n",
        "names_list = [\"Jan\", \"Feb\", \"Mar\", \"Apr\", \"May\", \"Jun\", \"Jul\", \"Aug\", \"Sep\", \"Oct\", \"Nov\", \"Dec\"]\n",
        "\n",
        "for num in range(len(names_list)):\n",
        "  months[num + 1] = names_list[num]\n",
        "print(months)"
      ],
      "metadata": {
        "id": "SnB8Xl9C7WJg"
      },
      "execution_count": null,
      "outputs": []
    },
    {
      "cell_type": "code",
      "source": [
        "s = 'This is another test'\n",
        "\n",
        "this_s = s[:4]\n",
        "print(this_s)\n",
        "test_s = s[-4:len(s)]\n",
        "print(test_s)\n",
        "print(s[:])"
      ],
      "metadata": {
        "id": "TBlk7DPI60ql"
      },
      "execution_count": null,
      "outputs": []
    },
    {
      "cell_type": "code",
      "source": [
        "L[3] = 'b'\n",
        "L\n",
        "\n",
        "[1, 'two', 3.14, 'b', [5, 7, 9]]"
      ],
      "metadata": {
        "id": "w_tKzSoM61jW"
      },
      "execution_count": null,
      "outputs": []
    },
    {
      "cell_type": "code",
      "source": [
        "L_outer = [[1, 2, 3], [4, 5, 6]]\n",
        "print(1)\n",
        "L_outer[1] = 1\n",
        "print(L_outer)\n",
        "\n",
        "[[1,2, 3], [4, 5, 6]]\n",
        "[4, 5, 6]\n",
        "[7, 5, 6]\n",
        "[[1, 2, 3], [7, 5, 6]]"
      ],
      "metadata": {
        "id": "xag2nV5f67U8"
      },
      "execution_count": null,
      "outputs": []
    },
    {
      "cell_type": "code",
      "source": [
        "L = [1, 'two', 3.0, print, [5,7, 9]]\n",
        "\n",
        "len(L)"
      ],
      "metadata": {
        "id": "-ptDUtAe677C"
      },
      "execution_count": null,
      "outputs": []
    },
    {
      "cell_type": "code",
      "source": [
        "L = ['one', 'two', 'three']\n",
        "L += ['three']\n",
        "print(L)"
      ],
      "metadata": {
        "id": "YBAoMX7z6973"
      },
      "execution_count": null,
      "outputs": []
    },
    {
      "cell_type": "code",
      "source": [
        "L = [5, 7, 3, 0, 1,9]\n",
        "L.sort(reverse=True)\n",
        "L"
      ],
      "metadata": {
        "id": "qBC0gUG47ADy"
      },
      "execution_count": null,
      "outputs": []
    },
    {
      "cell_type": "code",
      "source": [
        "l1 = [1,2,3,4]\n",
        "l2 = [1,2,5,6]\n",
        "\n",
        "for item in l1[:]:\n",
        "  if item in l2:\n",
        "    l1.remove(item)\n",
        "l1"
      ],
      "metadata": {
        "id": "enDo-Oo_7CZZ"
      },
      "execution_count": null,
      "outputs": []
    },
    {
      "cell_type": "code",
      "source": [
        "t = (1, 'two', 3.0)\n",
        "len(t)"
      ],
      "metadata": {
        "id": "vfpEgn-C7EyF"
      },
      "execution_count": null,
      "outputs": []
    },
    {
      "cell_type": "code",
      "source": [
        "grades = {\n",
        "    'Alice': 91,\n",
        "    'Bob': 88,\n",
        "    'Tracy': 93,\n",
        "    'Erik': 90\n",
        "}\n",
        "\n",
        "for key in grades.keys():\n",
        "  print(key)"
      ],
      "metadata": {
        "id": "ndEEcB2h7GxL"
      },
      "execution_count": null,
      "outputs": []
    },
    {
      "cell_type": "code",
      "source": [
        "grades['Tracy'] = 96\n",
        "grades"
      ],
      "metadata": {
        "id": "Xqgo4-G37JEj"
      },
      "execution_count": null,
      "outputs": []
    },
    {
      "cell_type": "code",
      "source": [
        "del grades['Erik']\n",
        "grades"
      ],
      "metadata": {
        "id": "CT1OvvY17LND"
      },
      "execution_count": null,
      "outputs": []
    },
    {
      "cell_type": "code",
      "source": [
        "for value in grades.values():\n",
        "  print(value)"
      ],
      "metadata": {
        "id": "Cl1DFWBD7NCO"
      },
      "execution_count": null,
      "outputs": []
    },
    {
      "cell_type": "code",
      "source": [
        "for key, value in grades.items():\n",
        "  print(f'Key: {key}, Value: {value}')"
      ],
      "metadata": {
        "id": "sQXOi3nd7Q1v"
      },
      "execution_count": null,
      "outputs": []
    },
    {
      "cell_type": "code",
      "execution_count": null,
      "metadata": {
        "id": "dQg9RWoDzq0F"
      },
      "outputs": [],
      "source": [
        "import random\n",
        "\n",
        "user_choice = input(\"Enter your choice (rock, paper, or scissors): \")\n",
        "computer_choice = random.choice([\"rock\", \"paper\", \"scissors\"])\n",
        "\n",
        "print(f\"You chose: {user_choice}\")\n",
        "print(f\"Computer chose: {computer_choice}\")\n",
        "\n",
        "if user_choice == computer_choice:\n",
        "    print(\"It's a tie!\")\n",
        "elif (\n",
        "    (user_choice == \"rock\" and computer_choice == \"scissors\") or\n",
        "    (user_choice == \"paper\" and computer_choice == \"rock\") or\n",
        "    (user_choice == \"scissors\" and computer_choice == \"paper\")\n",
        "):\n",
        "    print(\"You win!\")\n",
        "else:\n",
        "    print(\"Computer wins!\")"
      ]
    },
    {
      "cell_type": "code",
      "source": [
        "year = int(input(\"Enter a year: \"))\n",
        "\n",
        "if (year % 4 == 0 and year % 100 != 0) or (year % 400 == 0):\n",
        "    print(f\"{year} is a leap year!\")\n",
        "else:\n",
        "    print(f\"{year} is not a leap year.\")"
      ],
      "metadata": {
        "colab": {
          "base_uri": "https://localhost:8080/"
        },
        "id": "Rk9v6q_u3zlP",
        "outputId": "359a4d14-1428-4b60-8da9-9b7183dca97f"
      },
      "execution_count": null,
      "outputs": [
        {
          "output_type": "stream",
          "name": "stdout",
          "text": [
            "Enter a year: 2013\n",
            "2013 is not a leap year.\n"
          ]
        }
      ]
    },
    {
      "cell_type": "code",
      "source": [
        "init_attendees = 20\n",
        "fixed_cost = 200\n",
        "\n",
        "for advertising in range (0,201,25):\n",
        "  attendees = float(2*round(advertising**0.5) + init_attendees)\n",
        "  profit = float((attendees*10) - advertising - fixed_cost)\n",
        "  print(f'{advertising} ${profit}')"
      ],
      "metadata": {
        "colab": {
          "base_uri": "https://localhost:8080/"
        },
        "id": "2jrwaDYY13fo",
        "outputId": "05d45aa1-4933-47b6-f3c6-2c6c2092d810"
      },
      "execution_count": null,
      "outputs": [
        {
          "output_type": "stream",
          "name": "stdout",
          "text": [
            "0 $0.0\n",
            "25 $75.0\n",
            "50 $90.0\n",
            "75 $105.0\n",
            "100 $100.0\n",
            "125 $95.0\n",
            "150 $90.0\n",
            "175 $85.0\n",
            "200 $80.0\n"
          ]
        }
      ]
    }
  ]
}